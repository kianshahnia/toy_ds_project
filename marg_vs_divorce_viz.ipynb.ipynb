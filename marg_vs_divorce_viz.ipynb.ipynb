{
 "cells": [
  {
   "cell_type": "code",
   "execution_count": 1,
   "id": "801ba4d1-da9a-4ad0-aa60-1c6602d32c15",
   "metadata": {},
   "outputs": [
    {
     "name": "stdout",
     "output_type": "stream",
     "text": [
      "    status    location\n",
      "1  Married    New York\n",
      "2 Divorced Los Angeles\n",
      "3  Married    New York\n",
      "4 Divorced     Chicago\n",
      "5  Married     Chicago\n",
      "6  Married Los Angeles\n",
      "7 Divorced    New York\n",
      "          \n",
      "           Chicago Los Angeles New York\n",
      "  Divorced       1           1        1\n",
      "  Married        1           1        2\n"
     ]
    }
   ],
   "source": [
    "df <- data.frame(\n",
    "  status = c(\"Married\", \"Divorced\", \"Married\", \"Divorced\", \"Married\", \"Married\", \"Divorced\"),\n",
    "  location = c(\"New York\", \"Los Angeles\", \"New York\", \"Chicago\", \"Chicago\", \"Los Angeles\", \"New York\")\n",
    ")\n",
    "\n",
    "print(df)\n",
    "\n",
    "status_location_table <- table(df$status, df$location)\n",
    "\n",
    "print(status_location_table)"
   ]
  },
  {
   "cell_type": "code",
   "execution_count": null,
   "id": "d846166a-3630-404d-bbca-1431208b3ac2",
   "metadata": {},
   "outputs": [],
   "source": []
  }
 ],
 "metadata": {
  "kernelspec": {
   "display_name": "R",
   "language": "R",
   "name": "ir"
  },
  "language_info": {
   "codemirror_mode": "r",
   "file_extension": ".r",
   "mimetype": "text/x-r-source",
   "name": "R",
   "pygments_lexer": "r",
   "version": "4.3.3"
  }
 },
 "nbformat": 4,
 "nbformat_minor": 5
}
